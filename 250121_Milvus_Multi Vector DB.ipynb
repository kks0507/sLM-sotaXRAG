{
  "nbformat": 4,
  "nbformat_minor": 0,
  "metadata": {
    "colab": {
      "provenance": [],
      "gpuType": "L4",
      "machine_shape": "hm"
    },
    "kernelspec": {
      "name": "python3",
      "display_name": "Python 3"
    },
    "language_info": {
      "name": "python"
    },
    "accelerator": "GPU",
    "widgets": {
      "application/vnd.jupyter.widget-state+json": {
        "1ad4e23d147f4738bd7a809f83409fc3": {
          "model_module": "@jupyter-widgets/controls",
          "model_name": "HBoxModel",
          "model_module_version": "1.5.0",
          "state": {
            "_dom_classes": [],
            "_model_module": "@jupyter-widgets/controls",
            "_model_module_version": "1.5.0",
            "_model_name": "HBoxModel",
            "_view_count": null,
            "_view_module": "@jupyter-widgets/controls",
            "_view_module_version": "1.5.0",
            "_view_name": "HBoxView",
            "box_style": "",
            "children": [
              "IPY_MODEL_8f3e81078d9f43e1b0af1a28a0460e11",
              "IPY_MODEL_d1c536f5d8ac45e39abab42b862ceb75",
              "IPY_MODEL_8424d2db59a940ae830a631b7e9752bb"
            ],
            "layout": "IPY_MODEL_4a4364d93b6244bea3a6dcc1d0a0a646"
          }
        },
        "8f3e81078d9f43e1b0af1a28a0460e11": {
          "model_module": "@jupyter-widgets/controls",
          "model_name": "HTMLModel",
          "model_module_version": "1.5.0",
          "state": {
            "_dom_classes": [],
            "_model_module": "@jupyter-widgets/controls",
            "_model_module_version": "1.5.0",
            "_model_name": "HTMLModel",
            "_view_count": null,
            "_view_module": "@jupyter-widgets/controls",
            "_view_module_version": "1.5.0",
            "_view_name": "HTMLView",
            "description": "",
            "description_tooltip": null,
            "layout": "IPY_MODEL_b96f9d4e7cf5426e9357ace0b3a6cfe9",
            "placeholder": "​",
            "style": "IPY_MODEL_90e96ef052e04f3796b375c5c5319f83",
            "value": "Loading checkpoint shards: 100%"
          }
        },
        "d1c536f5d8ac45e39abab42b862ceb75": {
          "model_module": "@jupyter-widgets/controls",
          "model_name": "FloatProgressModel",
          "model_module_version": "1.5.0",
          "state": {
            "_dom_classes": [],
            "_model_module": "@jupyter-widgets/controls",
            "_model_module_version": "1.5.0",
            "_model_name": "FloatProgressModel",
            "_view_count": null,
            "_view_module": "@jupyter-widgets/controls",
            "_view_module_version": "1.5.0",
            "_view_name": "ProgressView",
            "bar_style": "success",
            "description": "",
            "description_tooltip": null,
            "layout": "IPY_MODEL_ccb2f990405a4205a88451b2f93b500e",
            "max": 2,
            "min": 0,
            "orientation": "horizontal",
            "style": "IPY_MODEL_f8ff272b15cc4e798173b25b1b727741",
            "value": 2
          }
        },
        "8424d2db59a940ae830a631b7e9752bb": {
          "model_module": "@jupyter-widgets/controls",
          "model_name": "HTMLModel",
          "model_module_version": "1.5.0",
          "state": {
            "_dom_classes": [],
            "_model_module": "@jupyter-widgets/controls",
            "_model_module_version": "1.5.0",
            "_model_name": "HTMLModel",
            "_view_count": null,
            "_view_module": "@jupyter-widgets/controls",
            "_view_module_version": "1.5.0",
            "_view_name": "HTMLView",
            "description": "",
            "description_tooltip": null,
            "layout": "IPY_MODEL_47ba7366a5714bcc9ec42c8fe6f023a3",
            "placeholder": "​",
            "style": "IPY_MODEL_f8b302f58be040c68050ab446633f852",
            "value": " 2/2 [00:04&lt;00:00,  2.04s/it]"
          }
        },
        "4a4364d93b6244bea3a6dcc1d0a0a646": {
          "model_module": "@jupyter-widgets/base",
          "model_name": "LayoutModel",
          "model_module_version": "1.2.0",
          "state": {
            "_model_module": "@jupyter-widgets/base",
            "_model_module_version": "1.2.0",
            "_model_name": "LayoutModel",
            "_view_count": null,
            "_view_module": "@jupyter-widgets/base",
            "_view_module_version": "1.2.0",
            "_view_name": "LayoutView",
            "align_content": null,
            "align_items": null,
            "align_self": null,
            "border": null,
            "bottom": null,
            "display": null,
            "flex": null,
            "flex_flow": null,
            "grid_area": null,
            "grid_auto_columns": null,
            "grid_auto_flow": null,
            "grid_auto_rows": null,
            "grid_column": null,
            "grid_gap": null,
            "grid_row": null,
            "grid_template_areas": null,
            "grid_template_columns": null,
            "grid_template_rows": null,
            "height": null,
            "justify_content": null,
            "justify_items": null,
            "left": null,
            "margin": null,
            "max_height": null,
            "max_width": null,
            "min_height": null,
            "min_width": null,
            "object_fit": null,
            "object_position": null,
            "order": null,
            "overflow": null,
            "overflow_x": null,
            "overflow_y": null,
            "padding": null,
            "right": null,
            "top": null,
            "visibility": null,
            "width": null
          }
        },
        "b96f9d4e7cf5426e9357ace0b3a6cfe9": {
          "model_module": "@jupyter-widgets/base",
          "model_name": "LayoutModel",
          "model_module_version": "1.2.0",
          "state": {
            "_model_module": "@jupyter-widgets/base",
            "_model_module_version": "1.2.0",
            "_model_name": "LayoutModel",
            "_view_count": null,
            "_view_module": "@jupyter-widgets/base",
            "_view_module_version": "1.2.0",
            "_view_name": "LayoutView",
            "align_content": null,
            "align_items": null,
            "align_self": null,
            "border": null,
            "bottom": null,
            "display": null,
            "flex": null,
            "flex_flow": null,
            "grid_area": null,
            "grid_auto_columns": null,
            "grid_auto_flow": null,
            "grid_auto_rows": null,
            "grid_column": null,
            "grid_gap": null,
            "grid_row": null,
            "grid_template_areas": null,
            "grid_template_columns": null,
            "grid_template_rows": null,
            "height": null,
            "justify_content": null,
            "justify_items": null,
            "left": null,
            "margin": null,
            "max_height": null,
            "max_width": null,
            "min_height": null,
            "min_width": null,
            "object_fit": null,
            "object_position": null,
            "order": null,
            "overflow": null,
            "overflow_x": null,
            "overflow_y": null,
            "padding": null,
            "right": null,
            "top": null,
            "visibility": null,
            "width": null
          }
        },
        "90e96ef052e04f3796b375c5c5319f83": {
          "model_module": "@jupyter-widgets/controls",
          "model_name": "DescriptionStyleModel",
          "model_module_version": "1.5.0",
          "state": {
            "_model_module": "@jupyter-widgets/controls",
            "_model_module_version": "1.5.0",
            "_model_name": "DescriptionStyleModel",
            "_view_count": null,
            "_view_module": "@jupyter-widgets/base",
            "_view_module_version": "1.2.0",
            "_view_name": "StyleView",
            "description_width": ""
          }
        },
        "ccb2f990405a4205a88451b2f93b500e": {
          "model_module": "@jupyter-widgets/base",
          "model_name": "LayoutModel",
          "model_module_version": "1.2.0",
          "state": {
            "_model_module": "@jupyter-widgets/base",
            "_model_module_version": "1.2.0",
            "_model_name": "LayoutModel",
            "_view_count": null,
            "_view_module": "@jupyter-widgets/base",
            "_view_module_version": "1.2.0",
            "_view_name": "LayoutView",
            "align_content": null,
            "align_items": null,
            "align_self": null,
            "border": null,
            "bottom": null,
            "display": null,
            "flex": null,
            "flex_flow": null,
            "grid_area": null,
            "grid_auto_columns": null,
            "grid_auto_flow": null,
            "grid_auto_rows": null,
            "grid_column": null,
            "grid_gap": null,
            "grid_row": null,
            "grid_template_areas": null,
            "grid_template_columns": null,
            "grid_template_rows": null,
            "height": null,
            "justify_content": null,
            "justify_items": null,
            "left": null,
            "margin": null,
            "max_height": null,
            "max_width": null,
            "min_height": null,
            "min_width": null,
            "object_fit": null,
            "object_position": null,
            "order": null,
            "overflow": null,
            "overflow_x": null,
            "overflow_y": null,
            "padding": null,
            "right": null,
            "top": null,
            "visibility": null,
            "width": null
          }
        },
        "f8ff272b15cc4e798173b25b1b727741": {
          "model_module": "@jupyter-widgets/controls",
          "model_name": "ProgressStyleModel",
          "model_module_version": "1.5.0",
          "state": {
            "_model_module": "@jupyter-widgets/controls",
            "_model_module_version": "1.5.0",
            "_model_name": "ProgressStyleModel",
            "_view_count": null,
            "_view_module": "@jupyter-widgets/base",
            "_view_module_version": "1.2.0",
            "_view_name": "StyleView",
            "bar_color": null,
            "description_width": ""
          }
        },
        "47ba7366a5714bcc9ec42c8fe6f023a3": {
          "model_module": "@jupyter-widgets/base",
          "model_name": "LayoutModel",
          "model_module_version": "1.2.0",
          "state": {
            "_model_module": "@jupyter-widgets/base",
            "_model_module_version": "1.2.0",
            "_model_name": "LayoutModel",
            "_view_count": null,
            "_view_module": "@jupyter-widgets/base",
            "_view_module_version": "1.2.0",
            "_view_name": "LayoutView",
            "align_content": null,
            "align_items": null,
            "align_self": null,
            "border": null,
            "bottom": null,
            "display": null,
            "flex": null,
            "flex_flow": null,
            "grid_area": null,
            "grid_auto_columns": null,
            "grid_auto_flow": null,
            "grid_auto_rows": null,
            "grid_column": null,
            "grid_gap": null,
            "grid_row": null,
            "grid_template_areas": null,
            "grid_template_columns": null,
            "grid_template_rows": null,
            "height": null,
            "justify_content": null,
            "justify_items": null,
            "left": null,
            "margin": null,
            "max_height": null,
            "max_width": null,
            "min_height": null,
            "min_width": null,
            "object_fit": null,
            "object_position": null,
            "order": null,
            "overflow": null,
            "overflow_x": null,
            "overflow_y": null,
            "padding": null,
            "right": null,
            "top": null,
            "visibility": null,
            "width": null
          }
        },
        "f8b302f58be040c68050ab446633f852": {
          "model_module": "@jupyter-widgets/controls",
          "model_name": "DescriptionStyleModel",
          "model_module_version": "1.5.0",
          "state": {
            "_model_module": "@jupyter-widgets/controls",
            "_model_module_version": "1.5.0",
            "_model_name": "DescriptionStyleModel",
            "_view_count": null,
            "_view_module": "@jupyter-widgets/base",
            "_view_module_version": "1.2.0",
            "_view_name": "StyleView",
            "description_width": ""
          }
        },
        "147d99d67dd2424cbdbafd2810bdd570": {
          "model_module": "@jupyter-widgets/controls",
          "model_name": "HBoxModel",
          "model_module_version": "1.5.0",
          "state": {
            "_dom_classes": [],
            "_model_module": "@jupyter-widgets/controls",
            "_model_module_version": "1.5.0",
            "_model_name": "HBoxModel",
            "_view_count": null,
            "_view_module": "@jupyter-widgets/controls",
            "_view_module_version": "1.5.0",
            "_view_name": "HBoxView",
            "box_style": "",
            "children": [
              "IPY_MODEL_37562852e3714f0ba1802a1520604b67",
              "IPY_MODEL_4a3d8295ab624a9880e6fa1498deb53a",
              "IPY_MODEL_107008cced2746e381dc071715b07dc7"
            ],
            "layout": "IPY_MODEL_5cf4a3a934a546feb81665a2a343eafc"
          }
        },
        "37562852e3714f0ba1802a1520604b67": {
          "model_module": "@jupyter-widgets/controls",
          "model_name": "HTMLModel",
          "model_module_version": "1.5.0",
          "state": {
            "_dom_classes": [],
            "_model_module": "@jupyter-widgets/controls",
            "_model_module_version": "1.5.0",
            "_model_name": "HTMLModel",
            "_view_count": null,
            "_view_module": "@jupyter-widgets/controls",
            "_view_module_version": "1.5.0",
            "_view_name": "HTMLView",
            "description": "",
            "description_tooltip": null,
            "layout": "IPY_MODEL_de3cceba67664f41a14329181003b448",
            "placeholder": "​",
            "style": "IPY_MODEL_abddce988d50449aad85f12ea0e5ff73",
            "value": "tokenizer_config.json: 100%"
          }
        },
        "4a3d8295ab624a9880e6fa1498deb53a": {
          "model_module": "@jupyter-widgets/controls",
          "model_name": "FloatProgressModel",
          "model_module_version": "1.5.0",
          "state": {
            "_dom_classes": [],
            "_model_module": "@jupyter-widgets/controls",
            "_model_module_version": "1.5.0",
            "_model_name": "FloatProgressModel",
            "_view_count": null,
            "_view_module": "@jupyter-widgets/controls",
            "_view_module_version": "1.5.0",
            "_view_name": "ProgressView",
            "bar_style": "success",
            "description": "",
            "description_tooltip": null,
            "layout": "IPY_MODEL_ad3bb759cd614f7ea4162b59fb7cb238",
            "max": 54715,
            "min": 0,
            "orientation": "horizontal",
            "style": "IPY_MODEL_b15bc159712e4be09e0aeb8fbe92969b",
            "value": 54715
          }
        },
        "107008cced2746e381dc071715b07dc7": {
          "model_module": "@jupyter-widgets/controls",
          "model_name": "HTMLModel",
          "model_module_version": "1.5.0",
          "state": {
            "_dom_classes": [],
            "_model_module": "@jupyter-widgets/controls",
            "_model_module_version": "1.5.0",
            "_model_name": "HTMLModel",
            "_view_count": null,
            "_view_module": "@jupyter-widgets/controls",
            "_view_module_version": "1.5.0",
            "_view_name": "HTMLView",
            "description": "",
            "description_tooltip": null,
            "layout": "IPY_MODEL_eec878df11da4a0fa351e84119689a33",
            "placeholder": "​",
            "style": "IPY_MODEL_9abf81f6f1de42a398bfaa466be006af",
            "value": " 54.7k/54.7k [00:00&lt;00:00, 4.84MB/s]"
          }
        },
        "5cf4a3a934a546feb81665a2a343eafc": {
          "model_module": "@jupyter-widgets/base",
          "model_name": "LayoutModel",
          "model_module_version": "1.2.0",
          "state": {
            "_model_module": "@jupyter-widgets/base",
            "_model_module_version": "1.2.0",
            "_model_name": "LayoutModel",
            "_view_count": null,
            "_view_module": "@jupyter-widgets/base",
            "_view_module_version": "1.2.0",
            "_view_name": "LayoutView",
            "align_content": null,
            "align_items": null,
            "align_self": null,
            "border": null,
            "bottom": null,
            "display": null,
            "flex": null,
            "flex_flow": null,
            "grid_area": null,
            "grid_auto_columns": null,
            "grid_auto_flow": null,
            "grid_auto_rows": null,
            "grid_column": null,
            "grid_gap": null,
            "grid_row": null,
            "grid_template_areas": null,
            "grid_template_columns": null,
            "grid_template_rows": null,
            "height": null,
            "justify_content": null,
            "justify_items": null,
            "left": null,
            "margin": null,
            "max_height": null,
            "max_width": null,
            "min_height": null,
            "min_width": null,
            "object_fit": null,
            "object_position": null,
            "order": null,
            "overflow": null,
            "overflow_x": null,
            "overflow_y": null,
            "padding": null,
            "right": null,
            "top": null,
            "visibility": null,
            "width": null
          }
        },
        "de3cceba67664f41a14329181003b448": {
          "model_module": "@jupyter-widgets/base",
          "model_name": "LayoutModel",
          "model_module_version": "1.2.0",
          "state": {
            "_model_module": "@jupyter-widgets/base",
            "_model_module_version": "1.2.0",
            "_model_name": "LayoutModel",
            "_view_count": null,
            "_view_module": "@jupyter-widgets/base",
            "_view_module_version": "1.2.0",
            "_view_name": "LayoutView",
            "align_content": null,
            "align_items": null,
            "align_self": null,
            "border": null,
            "bottom": null,
            "display": null,
            "flex": null,
            "flex_flow": null,
            "grid_area": null,
            "grid_auto_columns": null,
            "grid_auto_flow": null,
            "grid_auto_rows": null,
            "grid_column": null,
            "grid_gap": null,
            "grid_row": null,
            "grid_template_areas": null,
            "grid_template_columns": null,
            "grid_template_rows": null,
            "height": null,
            "justify_content": null,
            "justify_items": null,
            "left": null,
            "margin": null,
            "max_height": null,
            "max_width": null,
            "min_height": null,
            "min_width": null,
            "object_fit": null,
            "object_position": null,
            "order": null,
            "overflow": null,
            "overflow_x": null,
            "overflow_y": null,
            "padding": null,
            "right": null,
            "top": null,
            "visibility": null,
            "width": null
          }
        },
        "abddce988d50449aad85f12ea0e5ff73": {
          "model_module": "@jupyter-widgets/controls",
          "model_name": "DescriptionStyleModel",
          "model_module_version": "1.5.0",
          "state": {
            "_model_module": "@jupyter-widgets/controls",
            "_model_module_version": "1.5.0",
            "_model_name": "DescriptionStyleModel",
            "_view_count": null,
            "_view_module": "@jupyter-widgets/base",
            "_view_module_version": "1.2.0",
            "_view_name": "StyleView",
            "description_width": ""
          }
        },
        "ad3bb759cd614f7ea4162b59fb7cb238": {
          "model_module": "@jupyter-widgets/base",
          "model_name": "LayoutModel",
          "model_module_version": "1.2.0",
          "state": {
            "_model_module": "@jupyter-widgets/base",
            "_model_module_version": "1.2.0",
            "_model_name": "LayoutModel",
            "_view_count": null,
            "_view_module": "@jupyter-widgets/base",
            "_view_module_version": "1.2.0",
            "_view_name": "LayoutView",
            "align_content": null,
            "align_items": null,
            "align_self": null,
            "border": null,
            "bottom": null,
            "display": null,
            "flex": null,
            "flex_flow": null,
            "grid_area": null,
            "grid_auto_columns": null,
            "grid_auto_flow": null,
            "grid_auto_rows": null,
            "grid_column": null,
            "grid_gap": null,
            "grid_row": null,
            "grid_template_areas": null,
            "grid_template_columns": null,
            "grid_template_rows": null,
            "height": null,
            "justify_content": null,
            "justify_items": null,
            "left": null,
            "margin": null,
            "max_height": null,
            "max_width": null,
            "min_height": null,
            "min_width": null,
            "object_fit": null,
            "object_position": null,
            "order": null,
            "overflow": null,
            "overflow_x": null,
            "overflow_y": null,
            "padding": null,
            "right": null,
            "top": null,
            "visibility": null,
            "width": null
          }
        },
        "b15bc159712e4be09e0aeb8fbe92969b": {
          "model_module": "@jupyter-widgets/controls",
          "model_name": "ProgressStyleModel",
          "model_module_version": "1.5.0",
          "state": {
            "_model_module": "@jupyter-widgets/controls",
            "_model_module_version": "1.5.0",
            "_model_name": "ProgressStyleModel",
            "_view_count": null,
            "_view_module": "@jupyter-widgets/base",
            "_view_module_version": "1.2.0",
            "_view_name": "StyleView",
            "bar_color": null,
            "description_width": ""
          }
        },
        "eec878df11da4a0fa351e84119689a33": {
          "model_module": "@jupyter-widgets/base",
          "model_name": "LayoutModel",
          "model_module_version": "1.2.0",
          "state": {
            "_model_module": "@jupyter-widgets/base",
            "_model_module_version": "1.2.0",
            "_model_name": "LayoutModel",
            "_view_count": null,
            "_view_module": "@jupyter-widgets/base",
            "_view_module_version": "1.2.0",
            "_view_name": "LayoutView",
            "align_content": null,
            "align_items": null,
            "align_self": null,
            "border": null,
            "bottom": null,
            "display": null,
            "flex": null,
            "flex_flow": null,
            "grid_area": null,
            "grid_auto_columns": null,
            "grid_auto_flow": null,
            "grid_auto_rows": null,
            "grid_column": null,
            "grid_gap": null,
            "grid_row": null,
            "grid_template_areas": null,
            "grid_template_columns": null,
            "grid_template_rows": null,
            "height": null,
            "justify_content": null,
            "justify_items": null,
            "left": null,
            "margin": null,
            "max_height": null,
            "max_width": null,
            "min_height": null,
            "min_width": null,
            "object_fit": null,
            "object_position": null,
            "order": null,
            "overflow": null,
            "overflow_x": null,
            "overflow_y": null,
            "padding": null,
            "right": null,
            "top": null,
            "visibility": null,
            "width": null
          }
        },
        "9abf81f6f1de42a398bfaa466be006af": {
          "model_module": "@jupyter-widgets/controls",
          "model_name": "DescriptionStyleModel",
          "model_module_version": "1.5.0",
          "state": {
            "_model_module": "@jupyter-widgets/controls",
            "_model_module_version": "1.5.0",
            "_model_name": "DescriptionStyleModel",
            "_view_count": null,
            "_view_module": "@jupyter-widgets/base",
            "_view_module_version": "1.2.0",
            "_view_name": "StyleView",
            "description_width": ""
          }
        },
        "f636bb8ca72148f58bd7ce6bc2f9d883": {
          "model_module": "@jupyter-widgets/controls",
          "model_name": "HBoxModel",
          "model_module_version": "1.5.0",
          "state": {
            "_dom_classes": [],
            "_model_module": "@jupyter-widgets/controls",
            "_model_module_version": "1.5.0",
            "_model_name": "HBoxModel",
            "_view_count": null,
            "_view_module": "@jupyter-widgets/controls",
            "_view_module_version": "1.5.0",
            "_view_name": "HBoxView",
            "box_style": "",
            "children": [
              "IPY_MODEL_1288f9561eab427a92bf4d3542664b74",
              "IPY_MODEL_dbb59c2abb6040aea9bdaf2325e3ef66",
              "IPY_MODEL_684b7aad9d6d4deabd144abe61428c11"
            ],
            "layout": "IPY_MODEL_3d92082f0b0c4624802e21c65878103a"
          }
        },
        "1288f9561eab427a92bf4d3542664b74": {
          "model_module": "@jupyter-widgets/controls",
          "model_name": "HTMLModel",
          "model_module_version": "1.5.0",
          "state": {
            "_dom_classes": [],
            "_model_module": "@jupyter-widgets/controls",
            "_model_module_version": "1.5.0",
            "_model_name": "HTMLModel",
            "_view_count": null,
            "_view_module": "@jupyter-widgets/controls",
            "_view_module_version": "1.5.0",
            "_view_name": "HTMLView",
            "description": "",
            "description_tooltip": null,
            "layout": "IPY_MODEL_098526040e434c8aac6c214377934a0c",
            "placeholder": "​",
            "style": "IPY_MODEL_1efa31b71c804f98a26dba79da2483de",
            "value": "tokenizer.json: 100%"
          }
        },
        "dbb59c2abb6040aea9bdaf2325e3ef66": {
          "model_module": "@jupyter-widgets/controls",
          "model_name": "FloatProgressModel",
          "model_module_version": "1.5.0",
          "state": {
            "_dom_classes": [],
            "_model_module": "@jupyter-widgets/controls",
            "_model_module_version": "1.5.0",
            "_model_name": "FloatProgressModel",
            "_view_count": null,
            "_view_module": "@jupyter-widgets/controls",
            "_view_module_version": "1.5.0",
            "_view_name": "ProgressView",
            "bar_style": "success",
            "description": "",
            "description_tooltip": null,
            "layout": "IPY_MODEL_4e120ecc03ab4027bb8cc6164c16ca56",
            "max": 17209920,
            "min": 0,
            "orientation": "horizontal",
            "style": "IPY_MODEL_5bde7f5601134bde8a6d26b236376983",
            "value": 17209920
          }
        },
        "684b7aad9d6d4deabd144abe61428c11": {
          "model_module": "@jupyter-widgets/controls",
          "model_name": "HTMLModel",
          "model_module_version": "1.5.0",
          "state": {
            "_dom_classes": [],
            "_model_module": "@jupyter-widgets/controls",
            "_model_module_version": "1.5.0",
            "_model_name": "HTMLModel",
            "_view_count": null,
            "_view_module": "@jupyter-widgets/controls",
            "_view_module_version": "1.5.0",
            "_view_name": "HTMLView",
            "description": "",
            "description_tooltip": null,
            "layout": "IPY_MODEL_15a94672416d44b3a7734dbfff71a323",
            "placeholder": "​",
            "style": "IPY_MODEL_bc673d2ac0f049d48683e85f251469f3",
            "value": " 17.2M/17.2M [00:00&lt;00:00, 43.1MB/s]"
          }
        },
        "3d92082f0b0c4624802e21c65878103a": {
          "model_module": "@jupyter-widgets/base",
          "model_name": "LayoutModel",
          "model_module_version": "1.2.0",
          "state": {
            "_model_module": "@jupyter-widgets/base",
            "_model_module_version": "1.2.0",
            "_model_name": "LayoutModel",
            "_view_count": null,
            "_view_module": "@jupyter-widgets/base",
            "_view_module_version": "1.2.0",
            "_view_name": "LayoutView",
            "align_content": null,
            "align_items": null,
            "align_self": null,
            "border": null,
            "bottom": null,
            "display": null,
            "flex": null,
            "flex_flow": null,
            "grid_area": null,
            "grid_auto_columns": null,
            "grid_auto_flow": null,
            "grid_auto_rows": null,
            "grid_column": null,
            "grid_gap": null,
            "grid_row": null,
            "grid_template_areas": null,
            "grid_template_columns": null,
            "grid_template_rows": null,
            "height": null,
            "justify_content": null,
            "justify_items": null,
            "left": null,
            "margin": null,
            "max_height": null,
            "max_width": null,
            "min_height": null,
            "min_width": null,
            "object_fit": null,
            "object_position": null,
            "order": null,
            "overflow": null,
            "overflow_x": null,
            "overflow_y": null,
            "padding": null,
            "right": null,
            "top": null,
            "visibility": null,
            "width": null
          }
        },
        "098526040e434c8aac6c214377934a0c": {
          "model_module": "@jupyter-widgets/base",
          "model_name": "LayoutModel",
          "model_module_version": "1.2.0",
          "state": {
            "_model_module": "@jupyter-widgets/base",
            "_model_module_version": "1.2.0",
            "_model_name": "LayoutModel",
            "_view_count": null,
            "_view_module": "@jupyter-widgets/base",
            "_view_module_version": "1.2.0",
            "_view_name": "LayoutView",
            "align_content": null,
            "align_items": null,
            "align_self": null,
            "border": null,
            "bottom": null,
            "display": null,
            "flex": null,
            "flex_flow": null,
            "grid_area": null,
            "grid_auto_columns": null,
            "grid_auto_flow": null,
            "grid_auto_rows": null,
            "grid_column": null,
            "grid_gap": null,
            "grid_row": null,
            "grid_template_areas": null,
            "grid_template_columns": null,
            "grid_template_rows": null,
            "height": null,
            "justify_content": null,
            "justify_items": null,
            "left": null,
            "margin": null,
            "max_height": null,
            "max_width": null,
            "min_height": null,
            "min_width": null,
            "object_fit": null,
            "object_position": null,
            "order": null,
            "overflow": null,
            "overflow_x": null,
            "overflow_y": null,
            "padding": null,
            "right": null,
            "top": null,
            "visibility": null,
            "width": null
          }
        },
        "1efa31b71c804f98a26dba79da2483de": {
          "model_module": "@jupyter-widgets/controls",
          "model_name": "DescriptionStyleModel",
          "model_module_version": "1.5.0",
          "state": {
            "_model_module": "@jupyter-widgets/controls",
            "_model_module_version": "1.5.0",
            "_model_name": "DescriptionStyleModel",
            "_view_count": null,
            "_view_module": "@jupyter-widgets/base",
            "_view_module_version": "1.2.0",
            "_view_name": "StyleView",
            "description_width": ""
          }
        },
        "4e120ecc03ab4027bb8cc6164c16ca56": {
          "model_module": "@jupyter-widgets/base",
          "model_name": "LayoutModel",
          "model_module_version": "1.2.0",
          "state": {
            "_model_module": "@jupyter-widgets/base",
            "_model_module_version": "1.2.0",
            "_model_name": "LayoutModel",
            "_view_count": null,
            "_view_module": "@jupyter-widgets/base",
            "_view_module_version": "1.2.0",
            "_view_name": "LayoutView",
            "align_content": null,
            "align_items": null,
            "align_self": null,
            "border": null,
            "bottom": null,
            "display": null,
            "flex": null,
            "flex_flow": null,
            "grid_area": null,
            "grid_auto_columns": null,
            "grid_auto_flow": null,
            "grid_auto_rows": null,
            "grid_column": null,
            "grid_gap": null,
            "grid_row": null,
            "grid_template_areas": null,
            "grid_template_columns": null,
            "grid_template_rows": null,
            "height": null,
            "justify_content": null,
            "justify_items": null,
            "left": null,
            "margin": null,
            "max_height": null,
            "max_width": null,
            "min_height": null,
            "min_width": null,
            "object_fit": null,
            "object_position": null,
            "order": null,
            "overflow": null,
            "overflow_x": null,
            "overflow_y": null,
            "padding": null,
            "right": null,
            "top": null,
            "visibility": null,
            "width": null
          }
        },
        "5bde7f5601134bde8a6d26b236376983": {
          "model_module": "@jupyter-widgets/controls",
          "model_name": "ProgressStyleModel",
          "model_module_version": "1.5.0",
          "state": {
            "_model_module": "@jupyter-widgets/controls",
            "_model_module_version": "1.5.0",
            "_model_name": "ProgressStyleModel",
            "_view_count": null,
            "_view_module": "@jupyter-widgets/base",
            "_view_module_version": "1.2.0",
            "_view_name": "StyleView",
            "bar_color": null,
            "description_width": ""
          }
        },
        "15a94672416d44b3a7734dbfff71a323": {
          "model_module": "@jupyter-widgets/base",
          "model_name": "LayoutModel",
          "model_module_version": "1.2.0",
          "state": {
            "_model_module": "@jupyter-widgets/base",
            "_model_module_version": "1.2.0",
            "_model_name": "LayoutModel",
            "_view_count": null,
            "_view_module": "@jupyter-widgets/base",
            "_view_module_version": "1.2.0",
            "_view_name": "LayoutView",
            "align_content": null,
            "align_items": null,
            "align_self": null,
            "border": null,
            "bottom": null,
            "display": null,
            "flex": null,
            "flex_flow": null,
            "grid_area": null,
            "grid_auto_columns": null,
            "grid_auto_flow": null,
            "grid_auto_rows": null,
            "grid_column": null,
            "grid_gap": null,
            "grid_row": null,
            "grid_template_areas": null,
            "grid_template_columns": null,
            "grid_template_rows": null,
            "height": null,
            "justify_content": null,
            "justify_items": null,
            "left": null,
            "margin": null,
            "max_height": null,
            "max_width": null,
            "min_height": null,
            "min_width": null,
            "object_fit": null,
            "object_position": null,
            "order": null,
            "overflow": null,
            "overflow_x": null,
            "overflow_y": null,
            "padding": null,
            "right": null,
            "top": null,
            "visibility": null,
            "width": null
          }
        },
        "bc673d2ac0f049d48683e85f251469f3": {
          "model_module": "@jupyter-widgets/controls",
          "model_name": "DescriptionStyleModel",
          "model_module_version": "1.5.0",
          "state": {
            "_model_module": "@jupyter-widgets/controls",
            "_model_module_version": "1.5.0",
            "_model_name": "DescriptionStyleModel",
            "_view_count": null,
            "_view_module": "@jupyter-widgets/base",
            "_view_module_version": "1.2.0",
            "_view_name": "StyleView",
            "description_width": ""
          }
        },
        "7c3a83c44ae544008aa6cf0725bd9f5e": {
          "model_module": "@jupyter-widgets/controls",
          "model_name": "HBoxModel",
          "model_module_version": "1.5.0",
          "state": {
            "_dom_classes": [],
            "_model_module": "@jupyter-widgets/controls",
            "_model_module_version": "1.5.0",
            "_model_name": "HBoxModel",
            "_view_count": null,
            "_view_module": "@jupyter-widgets/controls",
            "_view_module_version": "1.5.0",
            "_view_name": "HBoxView",
            "box_style": "",
            "children": [
              "IPY_MODEL_8ed84bee430b4310bf0325c811cbe882",
              "IPY_MODEL_613172b94bec48acafcd104034ae2abf",
              "IPY_MODEL_5a3572eb8f314306911fe4692d98e779"
            ],
            "layout": "IPY_MODEL_e1912e9e617d4a22b5e4a24832d6b35d"
          }
        },
        "8ed84bee430b4310bf0325c811cbe882": {
          "model_module": "@jupyter-widgets/controls",
          "model_name": "HTMLModel",
          "model_module_version": "1.5.0",
          "state": {
            "_dom_classes": [],
            "_model_module": "@jupyter-widgets/controls",
            "_model_module_version": "1.5.0",
            "_model_name": "HTMLModel",
            "_view_count": null,
            "_view_module": "@jupyter-widgets/controls",
            "_view_module_version": "1.5.0",
            "_view_name": "HTMLView",
            "description": "",
            "description_tooltip": null,
            "layout": "IPY_MODEL_1e5e5daaa5f04ed596ae76075ba0f24b",
            "placeholder": "​",
            "style": "IPY_MODEL_f1056b5df4fb4886a3c15e01924121f3",
            "value": "special_tokens_map.json: 100%"
          }
        },
        "613172b94bec48acafcd104034ae2abf": {
          "model_module": "@jupyter-widgets/controls",
          "model_name": "FloatProgressModel",
          "model_module_version": "1.5.0",
          "state": {
            "_dom_classes": [],
            "_model_module": "@jupyter-widgets/controls",
            "_model_module_version": "1.5.0",
            "_model_name": "FloatProgressModel",
            "_view_count": null,
            "_view_module": "@jupyter-widgets/controls",
            "_view_module_version": "1.5.0",
            "_view_name": "ProgressView",
            "bar_style": "success",
            "description": "",
            "description_tooltip": null,
            "layout": "IPY_MODEL_d9d11cc2a39a461392610e1a13daa0cc",
            "max": 296,
            "min": 0,
            "orientation": "horizontal",
            "style": "IPY_MODEL_76d4a95e1f0d4614b2aa5273818bd0ae",
            "value": 296
          }
        },
        "5a3572eb8f314306911fe4692d98e779": {
          "model_module": "@jupyter-widgets/controls",
          "model_name": "HTMLModel",
          "model_module_version": "1.5.0",
          "state": {
            "_dom_classes": [],
            "_model_module": "@jupyter-widgets/controls",
            "_model_module_version": "1.5.0",
            "_model_name": "HTMLModel",
            "_view_count": null,
            "_view_module": "@jupyter-widgets/controls",
            "_view_module_version": "1.5.0",
            "_view_name": "HTMLView",
            "description": "",
            "description_tooltip": null,
            "layout": "IPY_MODEL_2f1022bc5e6e4f718eb7c41129f4bfad",
            "placeholder": "​",
            "style": "IPY_MODEL_cc82cf7854664fe594f8a1b5215ebd35",
            "value": " 296/296 [00:00&lt;00:00, 27.1kB/s]"
          }
        },
        "e1912e9e617d4a22b5e4a24832d6b35d": {
          "model_module": "@jupyter-widgets/base",
          "model_name": "LayoutModel",
          "model_module_version": "1.2.0",
          "state": {
            "_model_module": "@jupyter-widgets/base",
            "_model_module_version": "1.2.0",
            "_model_name": "LayoutModel",
            "_view_count": null,
            "_view_module": "@jupyter-widgets/base",
            "_view_module_version": "1.2.0",
            "_view_name": "LayoutView",
            "align_content": null,
            "align_items": null,
            "align_self": null,
            "border": null,
            "bottom": null,
            "display": null,
            "flex": null,
            "flex_flow": null,
            "grid_area": null,
            "grid_auto_columns": null,
            "grid_auto_flow": null,
            "grid_auto_rows": null,
            "grid_column": null,
            "grid_gap": null,
            "grid_row": null,
            "grid_template_areas": null,
            "grid_template_columns": null,
            "grid_template_rows": null,
            "height": null,
            "justify_content": null,
            "justify_items": null,
            "left": null,
            "margin": null,
            "max_height": null,
            "max_width": null,
            "min_height": null,
            "min_width": null,
            "object_fit": null,
            "object_position": null,
            "order": null,
            "overflow": null,
            "overflow_x": null,
            "overflow_y": null,
            "padding": null,
            "right": null,
            "top": null,
            "visibility": null,
            "width": null
          }
        },
        "1e5e5daaa5f04ed596ae76075ba0f24b": {
          "model_module": "@jupyter-widgets/base",
          "model_name": "LayoutModel",
          "model_module_version": "1.2.0",
          "state": {
            "_model_module": "@jupyter-widgets/base",
            "_model_module_version": "1.2.0",
            "_model_name": "LayoutModel",
            "_view_count": null,
            "_view_module": "@jupyter-widgets/base",
            "_view_module_version": "1.2.0",
            "_view_name": "LayoutView",
            "align_content": null,
            "align_items": null,
            "align_self": null,
            "border": null,
            "bottom": null,
            "display": null,
            "flex": null,
            "flex_flow": null,
            "grid_area": null,
            "grid_auto_columns": null,
            "grid_auto_flow": null,
            "grid_auto_rows": null,
            "grid_column": null,
            "grid_gap": null,
            "grid_row": null,
            "grid_template_areas": null,
            "grid_template_columns": null,
            "grid_template_rows": null,
            "height": null,
            "justify_content": null,
            "justify_items": null,
            "left": null,
            "margin": null,
            "max_height": null,
            "max_width": null,
            "min_height": null,
            "min_width": null,
            "object_fit": null,
            "object_position": null,
            "order": null,
            "overflow": null,
            "overflow_x": null,
            "overflow_y": null,
            "padding": null,
            "right": null,
            "top": null,
            "visibility": null,
            "width": null
          }
        },
        "f1056b5df4fb4886a3c15e01924121f3": {
          "model_module": "@jupyter-widgets/controls",
          "model_name": "DescriptionStyleModel",
          "model_module_version": "1.5.0",
          "state": {
            "_model_module": "@jupyter-widgets/controls",
            "_model_module_version": "1.5.0",
            "_model_name": "DescriptionStyleModel",
            "_view_count": null,
            "_view_module": "@jupyter-widgets/base",
            "_view_module_version": "1.2.0",
            "_view_name": "StyleView",
            "description_width": ""
          }
        },
        "d9d11cc2a39a461392610e1a13daa0cc": {
          "model_module": "@jupyter-widgets/base",
          "model_name": "LayoutModel",
          "model_module_version": "1.2.0",
          "state": {
            "_model_module": "@jupyter-widgets/base",
            "_model_module_version": "1.2.0",
            "_model_name": "LayoutModel",
            "_view_count": null,
            "_view_module": "@jupyter-widgets/base",
            "_view_module_version": "1.2.0",
            "_view_name": "LayoutView",
            "align_content": null,
            "align_items": null,
            "align_self": null,
            "border": null,
            "bottom": null,
            "display": null,
            "flex": null,
            "flex_flow": null,
            "grid_area": null,
            "grid_auto_columns": null,
            "grid_auto_flow": null,
            "grid_auto_rows": null,
            "grid_column": null,
            "grid_gap": null,
            "grid_row": null,
            "grid_template_areas": null,
            "grid_template_columns": null,
            "grid_template_rows": null,
            "height": null,
            "justify_content": null,
            "justify_items": null,
            "left": null,
            "margin": null,
            "max_height": null,
            "max_width": null,
            "min_height": null,
            "min_width": null,
            "object_fit": null,
            "object_position": null,
            "order": null,
            "overflow": null,
            "overflow_x": null,
            "overflow_y": null,
            "padding": null,
            "right": null,
            "top": null,
            "visibility": null,
            "width": null
          }
        },
        "76d4a95e1f0d4614b2aa5273818bd0ae": {
          "model_module": "@jupyter-widgets/controls",
          "model_name": "ProgressStyleModel",
          "model_module_version": "1.5.0",
          "state": {
            "_model_module": "@jupyter-widgets/controls",
            "_model_module_version": "1.5.0",
            "_model_name": "ProgressStyleModel",
            "_view_count": null,
            "_view_module": "@jupyter-widgets/base",
            "_view_module_version": "1.2.0",
            "_view_name": "StyleView",
            "bar_color": null,
            "description_width": ""
          }
        },
        "2f1022bc5e6e4f718eb7c41129f4bfad": {
          "model_module": "@jupyter-widgets/base",
          "model_name": "LayoutModel",
          "model_module_version": "1.2.0",
          "state": {
            "_model_module": "@jupyter-widgets/base",
            "_model_module_version": "1.2.0",
            "_model_name": "LayoutModel",
            "_view_count": null,
            "_view_module": "@jupyter-widgets/base",
            "_view_module_version": "1.2.0",
            "_view_name": "LayoutView",
            "align_content": null,
            "align_items": null,
            "align_self": null,
            "border": null,
            "bottom": null,
            "display": null,
            "flex": null,
            "flex_flow": null,
            "grid_area": null,
            "grid_auto_columns": null,
            "grid_auto_flow": null,
            "grid_auto_rows": null,
            "grid_column": null,
            "grid_gap": null,
            "grid_row": null,
            "grid_template_areas": null,
            "grid_template_columns": null,
            "grid_template_rows": null,
            "height": null,
            "justify_content": null,
            "justify_items": null,
            "left": null,
            "margin": null,
            "max_height": null,
            "max_width": null,
            "min_height": null,
            "min_width": null,
            "object_fit": null,
            "object_position": null,
            "order": null,
            "overflow": null,
            "overflow_x": null,
            "overflow_y": null,
            "padding": null,
            "right": null,
            "top": null,
            "visibility": null,
            "width": null
          }
        },
        "cc82cf7854664fe594f8a1b5215ebd35": {
          "model_module": "@jupyter-widgets/controls",
          "model_name": "DescriptionStyleModel",
          "model_module_version": "1.5.0",
          "state": {
            "_model_module": "@jupyter-widgets/controls",
            "_model_module_version": "1.5.0",
            "_model_name": "DescriptionStyleModel",
            "_view_count": null,
            "_view_module": "@jupyter-widgets/base",
            "_view_module_version": "1.2.0",
            "_view_name": "StyleView",
            "description_width": ""
          }
        }
      }
    }
  },
  "cells": [
    {
      "cell_type": "markdown",
      "source": [
        "## 종속성 설치"
      ],
      "metadata": {
        "id": "Bi4z3tyTGuhG"
      }
    },
    {
      "cell_type": "code",
      "source": [
        "!pip install --upgrade --quiet  langchain langchain-core langchain-community langchain-text-splitters langchain-milvus langchain-openai bs4"
      ],
      "metadata": {
        "id": "VQxIMZpq0mAt"
      },
      "execution_count": null,
      "outputs": []
    },
    {
      "cell_type": "code",
      "source": [
        "!pip install --upgrade--quiet tokenizers"
      ],
      "metadata": {
        "colab": {
          "base_uri": "https://localhost:8080/"
        },
        "id": "f_ufB7Il1Q9T",
        "outputId": "aabc9639-7878-48e7-dc8a-1c5390de61b8"
      },
      "execution_count": null,
      "outputs": [
        {
          "output_type": "stream",
          "name": "stdout",
          "text": [
            "\n",
            "Usage:   \n",
            "  pip3 install [options] <requirement specifier> [package-index-options] ...\n",
            "  pip3 install [options] -r <requirements file> [package-index-options] ...\n",
            "  pip3 install [options] [-e] <vcs project url> ...\n",
            "  pip3 install [options] [-e] <local project path> ...\n",
            "  pip3 install [options] <archive url/path> ...\n",
            "\n",
            "no such option: --upgrade--quiet\n"
          ]
        }
      ]
    },
    {
      "cell_type": "code",
      "source": [
        "!pip install bitsandbytes"
      ],
      "metadata": {
        "colab": {
          "base_uri": "https://localhost:8080/"
        },
        "id": "1lATSz2i1TUz",
        "outputId": "72b84849-f822-4072-e6ac-3d81276308de"
      },
      "execution_count": null,
      "outputs": [
        {
          "output_type": "stream",
          "name": "stdout",
          "text": [
            "Collecting bitsandbytes\n",
            "  Downloading bitsandbytes-0.45.0-py3-none-manylinux_2_24_x86_64.whl.metadata (2.9 kB)\n",
            "Requirement already satisfied: torch in /usr/local/lib/python3.11/dist-packages (from bitsandbytes) (2.5.1+cu121)\n",
            "Requirement already satisfied: numpy in /usr/local/lib/python3.11/dist-packages (from bitsandbytes) (1.26.4)\n",
            "Requirement already satisfied: typing_extensions>=4.8.0 in /usr/local/lib/python3.11/dist-packages (from bitsandbytes) (4.12.2)\n",
            "Requirement already satisfied: filelock in /usr/local/lib/python3.11/dist-packages (from torch->bitsandbytes) (3.16.1)\n",
            "Requirement already satisfied: networkx in /usr/local/lib/python3.11/dist-packages (from torch->bitsandbytes) (3.4.2)\n",
            "Requirement already satisfied: jinja2 in /usr/local/lib/python3.11/dist-packages (from torch->bitsandbytes) (3.1.5)\n",
            "Requirement already satisfied: fsspec in /usr/local/lib/python3.11/dist-packages (from torch->bitsandbytes) (2024.10.0)\n",
            "Requirement already satisfied: nvidia-cuda-nvrtc-cu12==12.1.105 in /usr/local/lib/python3.11/dist-packages (from torch->bitsandbytes) (12.1.105)\n",
            "Requirement already satisfied: nvidia-cuda-runtime-cu12==12.1.105 in /usr/local/lib/python3.11/dist-packages (from torch->bitsandbytes) (12.1.105)\n",
            "Requirement already satisfied: nvidia-cuda-cupti-cu12==12.1.105 in /usr/local/lib/python3.11/dist-packages (from torch->bitsandbytes) (12.1.105)\n",
            "Requirement already satisfied: nvidia-cudnn-cu12==9.1.0.70 in /usr/local/lib/python3.11/dist-packages (from torch->bitsandbytes) (9.1.0.70)\n",
            "Requirement already satisfied: nvidia-cublas-cu12==12.1.3.1 in /usr/local/lib/python3.11/dist-packages (from torch->bitsandbytes) (12.1.3.1)\n",
            "Requirement already satisfied: nvidia-cufft-cu12==11.0.2.54 in /usr/local/lib/python3.11/dist-packages (from torch->bitsandbytes) (11.0.2.54)\n",
            "Requirement already satisfied: nvidia-curand-cu12==10.3.2.106 in /usr/local/lib/python3.11/dist-packages (from torch->bitsandbytes) (10.3.2.106)\n",
            "Requirement already satisfied: nvidia-cusolver-cu12==11.4.5.107 in /usr/local/lib/python3.11/dist-packages (from torch->bitsandbytes) (11.4.5.107)\n",
            "Requirement already satisfied: nvidia-cusparse-cu12==12.1.0.106 in /usr/local/lib/python3.11/dist-packages (from torch->bitsandbytes) (12.1.0.106)\n",
            "Requirement already satisfied: nvidia-nccl-cu12==2.21.5 in /usr/local/lib/python3.11/dist-packages (from torch->bitsandbytes) (2.21.5)\n",
            "Requirement already satisfied: nvidia-nvtx-cu12==12.1.105 in /usr/local/lib/python3.11/dist-packages (from torch->bitsandbytes) (12.1.105)\n",
            "Requirement already satisfied: triton==3.1.0 in /usr/local/lib/python3.11/dist-packages (from torch->bitsandbytes) (3.1.0)\n",
            "Requirement already satisfied: sympy==1.13.1 in /usr/local/lib/python3.11/dist-packages (from torch->bitsandbytes) (1.13.1)\n",
            "Requirement already satisfied: nvidia-nvjitlink-cu12 in /usr/local/lib/python3.11/dist-packages (from nvidia-cusolver-cu12==11.4.5.107->torch->bitsandbytes) (12.6.85)\n",
            "Requirement already satisfied: mpmath<1.4,>=1.1.0 in /usr/local/lib/python3.11/dist-packages (from sympy==1.13.1->torch->bitsandbytes) (1.3.0)\n",
            "Requirement already satisfied: MarkupSafe>=2.0 in /usr/local/lib/python3.11/dist-packages (from jinja2->torch->bitsandbytes) (3.0.2)\n",
            "Downloading bitsandbytes-0.45.0-py3-none-manylinux_2_24_x86_64.whl (69.1 MB)\n",
            "\u001b[2K   \u001b[90m━━━━━━━━━━━━━━━━━━━━━━━━━━━━━━━━━━━━━━━━\u001b[0m \u001b[32m69.1/69.1 MB\u001b[0m \u001b[31m21.7 MB/s\u001b[0m eta \u001b[36m0:00:00\u001b[0m\n",
            "\u001b[?25hInstalling collected packages: bitsandbytes\n",
            "Successfully installed bitsandbytes-0.45.0\n"
          ]
        }
      ]
    },
    {
      "cell_type": "markdown",
      "source": [
        "## LLM 모델 준비"
      ],
      "metadata": {
        "id": "fADOdH0I1Cbb"
      }
    },
    {
      "cell_type": "code",
      "source": [
        "import torch\n",
        "from transformers import AutoTokenizer, AutoModelForCausalLM, BitsAndBytesConfig\n",
        "\n",
        "# 1. 모델 ID 설정\n",
        "base_model_id = 'Bllossom/llama-3.2-Korean-Bllossom-3B'\n",
        "\n",
        "# 2. BitsAndBytesConfig 설정\n",
        "bnb_config = BitsAndBytesConfig(\n",
        "    load_in_8bit=True, # 4bit quantization으로 모델을 불러와 메모리 소모를 줄임\n",
        ")\n",
        "\n",
        "# 3. 모델 로드\n",
        "model = AutoModelForCausalLM.from_pretrained(base_model_id, quantization_config=bnb_config)"
      ],
      "metadata": {
        "colab": {
          "base_uri": "https://localhost:8080/",
          "height": 68,
          "referenced_widgets": [
            "1ad4e23d147f4738bd7a809f83409fc3",
            "8f3e81078d9f43e1b0af1a28a0460e11",
            "d1c536f5d8ac45e39abab42b862ceb75",
            "8424d2db59a940ae830a631b7e9752bb",
            "4a4364d93b6244bea3a6dcc1d0a0a646",
            "b96f9d4e7cf5426e9357ace0b3a6cfe9",
            "90e96ef052e04f3796b375c5c5319f83",
            "ccb2f990405a4205a88451b2f93b500e",
            "f8ff272b15cc4e798173b25b1b727741",
            "47ba7366a5714bcc9ec42c8fe6f023a3",
            "f8b302f58be040c68050ab446633f852"
          ]
        },
        "id": "rcxsnkUC2_Zx",
        "outputId": "844cb1e9-4a8f-430c-b62e-82ac5c2b59a7"
      },
      "execution_count": null,
      "outputs": [
        {
          "output_type": "stream",
          "name": "stderr",
          "text": [
            "`low_cpu_mem_usage` was None, now default to True since model is quantized.\n"
          ]
        },
        {
          "output_type": "display_data",
          "data": {
            "text/plain": [
              "Loading checkpoint shards:   0%|          | 0/2 [00:00<?, ?it/s]"
            ],
            "application/vnd.jupyter.widget-view+json": {
              "version_major": 2,
              "version_minor": 0,
              "model_id": "1ad4e23d147f4738bd7a809f83409fc3"
            }
          },
          "metadata": {}
        }
      ]
    },
    {
      "cell_type": "code",
      "source": [
        "# 4. 토크나이저 로드\n",
        "tokenizer = AutoTokenizer.from_pretrained(\n",
        "    base_model_id,\n",
        "    model_max_length=512,  # 최대 토큰 길이\n",
        "    padding_side=\"left\",   # 입력 패딩 방향\n",
        "    add_eos_token=True     # EOS 토큰 추가\n",
        ")\n",
        "\n",
        "tokenizer.pad_token = tokenizer.eos_token"
      ],
      "metadata": {
        "colab": {
          "base_uri": "https://localhost:8080/",
          "height": 113,
          "referenced_widgets": [
            "147d99d67dd2424cbdbafd2810bdd570",
            "37562852e3714f0ba1802a1520604b67",
            "4a3d8295ab624a9880e6fa1498deb53a",
            "107008cced2746e381dc071715b07dc7",
            "5cf4a3a934a546feb81665a2a343eafc",
            "de3cceba67664f41a14329181003b448",
            "abddce988d50449aad85f12ea0e5ff73",
            "ad3bb759cd614f7ea4162b59fb7cb238",
            "b15bc159712e4be09e0aeb8fbe92969b",
            "eec878df11da4a0fa351e84119689a33",
            "9abf81f6f1de42a398bfaa466be006af",
            "f636bb8ca72148f58bd7ce6bc2f9d883",
            "1288f9561eab427a92bf4d3542664b74",
            "dbb59c2abb6040aea9bdaf2325e3ef66",
            "684b7aad9d6d4deabd144abe61428c11",
            "3d92082f0b0c4624802e21c65878103a",
            "098526040e434c8aac6c214377934a0c",
            "1efa31b71c804f98a26dba79da2483de",
            "4e120ecc03ab4027bb8cc6164c16ca56",
            "5bde7f5601134bde8a6d26b236376983",
            "15a94672416d44b3a7734dbfff71a323",
            "bc673d2ac0f049d48683e85f251469f3",
            "7c3a83c44ae544008aa6cf0725bd9f5e",
            "8ed84bee430b4310bf0325c811cbe882",
            "613172b94bec48acafcd104034ae2abf",
            "5a3572eb8f314306911fe4692d98e779",
            "e1912e9e617d4a22b5e4a24832d6b35d",
            "1e5e5daaa5f04ed596ae76075ba0f24b",
            "f1056b5df4fb4886a3c15e01924121f3",
            "d9d11cc2a39a461392610e1a13daa0cc",
            "76d4a95e1f0d4614b2aa5273818bd0ae",
            "2f1022bc5e6e4f718eb7c41129f4bfad",
            "cc82cf7854664fe594f8a1b5215ebd35"
          ]
        },
        "id": "2sRbw1iyHGLe",
        "outputId": "5c6e09e2-c413-4518-9273-53cb93558ffc"
      },
      "execution_count": null,
      "outputs": [
        {
          "output_type": "display_data",
          "data": {
            "text/plain": [
              "tokenizer_config.json:   0%|          | 0.00/54.7k [00:00<?, ?B/s]"
            ],
            "application/vnd.jupyter.widget-view+json": {
              "version_major": 2,
              "version_minor": 0,
              "model_id": "147d99d67dd2424cbdbafd2810bdd570"
            }
          },
          "metadata": {}
        },
        {
          "output_type": "display_data",
          "data": {
            "text/plain": [
              "tokenizer.json:   0%|          | 0.00/17.2M [00:00<?, ?B/s]"
            ],
            "application/vnd.jupyter.widget-view+json": {
              "version_major": 2,
              "version_minor": 0,
              "model_id": "f636bb8ca72148f58bd7ce6bc2f9d883"
            }
          },
          "metadata": {}
        },
        {
          "output_type": "display_data",
          "data": {
            "text/plain": [
              "special_tokens_map.json:   0%|          | 0.00/296 [00:00<?, ?B/s]"
            ],
            "application/vnd.jupyter.widget-view+json": {
              "version_major": 2,
              "version_minor": 0,
              "model_id": "7c3a83c44ae544008aa6cf0725bd9f5e"
            }
          },
          "metadata": {}
        }
      ]
    },
    {
      "cell_type": "code",
      "source": [
        "from transformers import pipeline\n",
        "from langchain.llms import HuggingFacePipeline\n",
        "# LLM 파이프라인 설정 (LangChain과 통합)\n",
        "llm_pipeline = pipeline(\n",
        "    \"text-generation\",\n",
        "    model=model,\n",
        "    tokenizer=tokenizer,\n",
        "    max_new_tokens=500\n",
        ")\n",
        "llm = HuggingFacePipeline(pipeline=llm_pipeline)"
      ],
      "metadata": {
        "colab": {
          "base_uri": "https://localhost:8080/"
        },
        "id": "FLEH7TxCHG2d",
        "outputId": "eec0b5fa-e60b-4768-8a41-bea8f2b256d0"
      },
      "execution_count": null,
      "outputs": [
        {
          "output_type": "stream",
          "name": "stderr",
          "text": [
            "Device set to use cuda:0\n"
          ]
        }
      ]
    },
    {
      "cell_type": "markdown",
      "source": [
        "## 데이터 준비\n",
        "\n",
        "<br>\n",
        "Langchain csvLoader를 사용해 문서를 로드."
      ],
      "metadata": {
        "id": "jm4gwWERApCU"
      }
    },
    {
      "cell_type": "code",
      "source": [
        "from google.colab import drive\n",
        "\n",
        "# 구글 드라이브 마운트\n",
        "drive.mount('/content/drive')"
      ],
      "metadata": {
        "colab": {
          "base_uri": "https://localhost:8080/"
        },
        "id": "IxyW7KU0A5_b",
        "outputId": "f322133d-d420-439f-e5b6-dba04d5fd500"
      },
      "execution_count": null,
      "outputs": [
        {
          "output_type": "stream",
          "name": "stdout",
          "text": [
            "Drive already mounted at /content/drive; to attempt to forcibly remount, call drive.mount(\"/content/drive\", force_remount=True).\n"
          ]
        }
      ]
    },
    {
      "cell_type": "code",
      "source": [
        "file_path = '/content/drive/My Drive/Colab Notebooks/RAG_MilVus/서지.csv'"
      ],
      "metadata": {
        "id": "pGtuoQowBBE7"
      },
      "execution_count": null,
      "outputs": []
    },
    {
      "cell_type": "code",
      "source": [
        "file_path = '/content/drive/My Drive/Colab Notebooks/RAG_MilVus/실라버스.csv'"
      ],
      "metadata": {
        "id": "Fb7DWCq2zIAy"
      },
      "execution_count": null,
      "outputs": []
    },
    {
      "cell_type": "code",
      "source": [
        "import pandas as pd\n",
        "from langchain.text_splitter import RecursiveCharacterTextSplitter\n",
        "from langchain.docstore.document import Document\n",
        "\n",
        "# CSV 파일 로드\n",
        "file_path = '/content/drive/My Drive/Colab Notebooks/RAG_MilVus/서지.csv'\n",
        "data = pd.read_csv(file_path)\n",
        "\n",
        "# Replace NaN values in '책 소개' with an empty string\n",
        "data['책 소개'] = data['책 소개'].fillna('')\n",
        "\n",
        "# CSV 데이터를 LangChain Document로 변환\n",
        "# Change metadata keys to start with an underscore and use English or abbreviations\n",
        "bibliography_docs = [\n",
        "    Document(\n",
        "        page_content=row['책 소개'],  # 책 소개를 주요 내용으로 설정\n",
        "        metadata={\n",
        "            \"title\": row['제목'],       # Changed to 'title'\n",
        "            \"author\": row['저자'],       # Changed to 'author'\n",
        "            \"publisher\": row['출판사'],   # Changed to 'publisher'\n",
        "            \"isbn\": row['ISBN']       # Changed to 'isbn'\n",
        "        }\n",
        "    )\n",
        "    for _, row in data.iterrows()\n",
        "]\n",
        "\n",
        "# 텍스트 분할\n",
        "text_splitter = RecursiveCharacterTextSplitter(chunk_size=2000, chunk_overlap=200)\n",
        "docs1 = text_splitter.split_documents(bibliography_docs)\n",
        "\n",
        "# 첫 번째 분할된 문서 출력\n",
        "print(docs1[1])"
      ],
      "metadata": {
        "colab": {
          "base_uri": "https://localhost:8080/"
        },
        "id": "cK0TqDJ9Dg4g",
        "outputId": "dd24ed7e-45c2-4e03-a9fb-30a251b47411"
      },
      "execution_count": null,
      "outputs": [
        {
          "output_type": "stream",
          "name": "stdout",
          "text": [
            "page_content='<전염병의 세계사>와 <전쟁의 세계사>로 국내 독자들에게 알려진 바 있으며, 현존하는 가장 탁월한 역사가 중 한명으로 꼽히는 윌리엄 맥닐 시카고대 역사학과 교수의 책. 해외에서입니다.' metadata={'title': '세계의 역사', 'author': '윌리엄 맥닐', 'publisher': '이산', 'isbn': 271590}\n"
          ]
        }
      ]
    },
    {
      "cell_type": "code",
      "source": [
        "import pandas as pd\n",
        "from langchain.text_splitter import RecursiveCharacterTextSplitter\n",
        "from langchain.docstore.document import Document\n",
        "\n",
        "# CSV 파일 로드\n",
        "file_path = '/content/drive/My Drive/Colab Notebooks/RAG_MilVus/실라버스.csv'\n",
        "data = pd.read_csv(file_path)\n",
        "\n",
        "# Replace NaN values in '책 소개' with an empty string\n",
        "data['요약 설명'] = data['요약 설명'].fillna('')\n",
        "\n",
        "# CSV 데이터를 LangChain Document로 변환\n",
        "# Change metadata keys to start with an underscore and use English or abbreviations\n",
        "syllabus_docs = [\n",
        "    Document( # Create Document objects instead of dictionaries\n",
        "        page_content=row['요약 설명'],  # 요약 설명을 주요 내용으로 설정\n",
        "        metadata={\n",
        "            \"title\": row['강의 명'],        # Changed to '_title'\n",
        "            \"course_id\": row['강의 번호'],  # Changed to '_course_id'\n",
        "            \"department\": row['주관 학과'], # Changed to '_department'\n",
        "            \"reference\": row['참고문헌']   # Changed to '_reference'\n",
        "        }\n",
        "    )\n",
        "    for _, row in data.iterrows()\n",
        "]\n",
        "\n",
        "# 텍스트 분할\n",
        "text_splitter = RecursiveCharacterTextSplitter(chunk_size=2000, chunk_overlap=200)\n",
        "docs2 = text_splitter.split_documents(syllabus_docs)\n",
        "\n",
        "# 첫 번째 분할된 문서 출력\n",
        "print(docs2[22])"
      ],
      "metadata": {
        "colab": {
          "base_uri": "https://localhost:8080/"
        },
        "id": "6c-xRLfR4h0y",
        "outputId": "1a5b4a7e-0690-4b65-a821-3c9f4d7b4f17"
      },
      "execution_count": null,
      "outputs": [
        {
          "output_type": "stream",
          "name": "stdout",
          "text": [
            "page_content='인적자원 관리와 조직의 동기부여 및 성과 평가 기법을 탐구합니다.' metadata={'title': '인적자원관리', 'course_id': 1022, 'department': '경영학', 'reference': 'Human Resource Management'}\n"
          ]
        }
      ]
    },
    {
      "cell_type": "markdown",
      "source": [
        "## 임베딩 모델 활용 데이터 임베딩 이후, Milvus 벡터 DB에 저장\n",
        "\n",
        "<br>\n",
        "\n",
        "문서로 Milvus 벡터 스토어를 초기화하여 Milvus 벡터 스토어에 문서를 로드하고 내부적으로 인덱스를 구축."
      ],
      "metadata": {
        "id": "JIjfH4vZCc2q"
      }
    },
    {
      "cell_type": "code",
      "source": [
        "!pip install pymilvus"
      ],
      "metadata": {
        "colab": {
          "base_uri": "https://localhost:8080/"
        },
        "id": "_d_J742M7IID",
        "outputId": "024ede87-b13f-47fe-eda4-525db5b6fac2"
      },
      "execution_count": null,
      "outputs": [
        {
          "output_type": "stream",
          "name": "stdout",
          "text": [
            "Requirement already satisfied: pymilvus in /usr/local/lib/python3.11/dist-packages (2.5.3)\n",
            "Requirement already satisfied: setuptools>69 in /usr/local/lib/python3.11/dist-packages (from pymilvus) (75.1.0)\n",
            "Requirement already satisfied: grpcio<=1.67.1,>=1.49.1 in /usr/local/lib/python3.11/dist-packages (from pymilvus) (1.67.1)\n",
            "Requirement already satisfied: protobuf>=3.20.0 in /usr/local/lib/python3.11/dist-packages (from pymilvus) (4.25.5)\n",
            "Requirement already satisfied: python-dotenv<2.0.0,>=1.0.1 in /usr/local/lib/python3.11/dist-packages (from pymilvus) (1.0.1)\n",
            "Requirement already satisfied: ujson>=2.0.0 in /usr/local/lib/python3.11/dist-packages (from pymilvus) (5.10.0)\n",
            "Requirement already satisfied: pandas>=1.2.4 in /usr/local/lib/python3.11/dist-packages (from pymilvus) (2.2.2)\n",
            "Requirement already satisfied: milvus-lite>=2.4.0 in /usr/local/lib/python3.11/dist-packages (from pymilvus) (2.4.11)\n",
            "Requirement already satisfied: tqdm in /usr/local/lib/python3.11/dist-packages (from milvus-lite>=2.4.0->pymilvus) (4.67.1)\n",
            "Requirement already satisfied: numpy>=1.23.2 in /usr/local/lib/python3.11/dist-packages (from pandas>=1.2.4->pymilvus) (1.26.4)\n",
            "Requirement already satisfied: python-dateutil>=2.8.2 in /usr/local/lib/python3.11/dist-packages (from pandas>=1.2.4->pymilvus) (2.8.2)\n",
            "Requirement already satisfied: pytz>=2020.1 in /usr/local/lib/python3.11/dist-packages (from pandas>=1.2.4->pymilvus) (2024.2)\n",
            "Requirement already satisfied: tzdata>=2022.7 in /usr/local/lib/python3.11/dist-packages (from pandas>=1.2.4->pymilvus) (2024.2)\n",
            "Requirement already satisfied: six>=1.5 in /usr/local/lib/python3.11/dist-packages (from python-dateutil>=2.8.2->pandas>=1.2.4->pymilvus) (1.17.0)\n"
          ]
        }
      ]
    },
    {
      "cell_type": "code",
      "source": [
        "from langchain_milvus import Milvus\n",
        "from langchain.embeddings import HuggingFaceEmbeddings\n",
        "\n",
        "#  Milvus 컬렉션 생성\n",
        "embedding_model = HuggingFaceEmbeddings(model_name=\"jhgan/ko-sroberta-multitask\", model_kwargs={'device': 'cuda:0'})\n",
        "\n",
        "# 서지 컬렉션\n",
        "bibliography_store = Milvus.from_documents(\n",
        "    documents=docs1,\n",
        "    embedding=embedding_model,\n",
        "    connection_args={\n",
        "        \"uri\": \"./milvus_demo.db\",\n",
        "    },\n",
        "    collection_name=\"bibliography_collection\",\n",
        "    drop_old=True,\n",
        "    # Specify index_params for FLAT index\n",
        "    index_params={\"index_type\": \"FLAT\"}\n",
        ")\n",
        "\n",
        "# 실라버스 컬렉션\n",
        "syllabus_store = Milvus.from_documents(\n",
        "    documents=docs2,\n",
        "    embedding=embedding_model,\n",
        "    connection_args={\n",
        "        \"uri\": \"./milvus_demo.db\",\n",
        "    },\n",
        "    collection_name=\"syllabus_collection\",\n",
        "    drop_old=True,\n",
        "    # Specify index_params for FLAT index\n",
        "    index_params={\"index_type\": \"FLAT\"}\n",
        ")"
      ],
      "metadata": {
        "id": "rgNrFYov6bgj"
      },
      "execution_count": null,
      "outputs": []
    },
    {
      "cell_type": "markdown",
      "source": [
        "### 서지 컬렉션 검색\n",
        "테스트 쿼리 문제를 사용하여 Milvus 벡터 스토어에서 문서를 검색합니다. 상위 2개 문서를 살펴보기."
      ],
      "metadata": {
        "id": "D-D7tF-_Dvpu"
      }
    },
    {
      "cell_type": "code",
      "source": [
        "query = \"거시경제학\"\n",
        "bibliography_store.similarity_search(query, k=2)"
      ],
      "metadata": {
        "colab": {
          "base_uri": "https://localhost:8080/"
        },
        "id": "bpJlNBllDzaE",
        "outputId": "de81a244-70dc-46e9-92ba-af799a335ae6"
      },
      "execution_count": null,
      "outputs": [
        {
          "output_type": "execute_result",
          "data": {
            "text/plain": [
              "[Document(metadata={'author': '정운찬, 김영식', 'isbn': 599922, 'pk': 455439929979700909, 'publisher': '율곡출판사', 'title': '거시경제론'}, page_content='이 책은 거시경제론을 다룬 개론서입니다. 거시경제론의 기초적이고 전반적인 내용을 학습할 수 있도록 구성했습니다.'),\n",
              " Document(metadata={'author': 'Andrew B. Abel, Ben S. Bernanke, Dean Croushore', 'isbn': 514313, 'pk': 455439929979700907, 'publisher': '지필미디어', 'title': '거시경제학'}, page_content='『거시경제학』은 경제학을 공부하는 학생들을 위해 고전학파와 케인즈파의 여러 가정을 명료하게 설명하는 단일 경제모형을 바탕으로 하나로 통일된 접근방법을 제시한 책이다. 특히 세계입니다.')]"
            ]
          },
          "metadata": {},
          "execution_count": 45
        }
      ]
    },
    {
      "cell_type": "markdown",
      "source": [
        "### 실라버스 컬렉션 검색\n",
        "테스트 쿼리 문제를 사용하여 Milvus 벡터 스토어에서 문서를 검색합니다. 상위 2개 문서를 살펴보기."
      ],
      "metadata": {
        "id": "mWBFvRTJ7Wo5"
      }
    },
    {
      "cell_type": "code",
      "source": [
        "query = \"거시경제학\"\n",
        "syllabus_store.similarity_search(query, k=2)"
      ],
      "metadata": {
        "colab": {
          "base_uri": "https://localhost:8080/"
        },
        "id": "uBEAv3Yj7zVe",
        "outputId": "f336fe9f-8a46-4c74-e52d-36c77ee4e885"
      },
      "execution_count": null,
      "outputs": [
        {
          "output_type": "execute_result",
          "data": {
            "text/plain": [
              "[Document(metadata={'course_id': 1041, 'department': '경제학', 'pk': 455439930173163815, 'reference': 'Macroeconomics', 'title': '거시경제학'}, page_content='국가 경제와 정책의 영향을 다루는 거시경제학 원리를 탐구합니다.'),\n",
              " Document(metadata={'course_id': 1045, 'department': '경제학', 'pk': 455439930173163819, 'reference': 'Financial Economics', 'title': '금융 경제학'}, page_content='금융 시장의 구조와 경제학적 원리를 탐구합니다.')]"
            ]
          },
          "metadata": {},
          "execution_count": 46
        }
      ]
    },
    {
      "cell_type": "markdown",
      "source": [
        "## RAG 체인 구축하기\n",
        "LCEL(LangChain 표현 언어)을 사용하여 RAG 체인을 구축합니다."
      ],
      "metadata": {
        "id": "AmHJFQ_Q8ri6"
      }
    },
    {
      "cell_type": "markdown",
      "source": [
        "### 결과 생성"
      ],
      "metadata": {
        "id": "bFHzK2nACgS8"
      }
    },
    {
      "cell_type": "code",
      "source": [
        "from langchain_core.prompts import PromptTemplate\n",
        "from langchain_core.output_parsers import StrOutputParser\n",
        "from langchain_core.runnables import RunnablePassthrough\n",
        "\n",
        "# LangChain Prompt 설정\n",
        "PROMPT_TEMPLATE = \"\"\"\n",
        "당신은 서지 및 강의 정보를 분석하여 추천하는 AI 비서입니다.\n",
        "아래 제공된 정보(context)와 <question> 태그 안에 있는 사용자 질문을 기반으로 정확하고 간결한 답변을 제시하세요.\n",
        "질문에 대해 알맞은 도서와 강의를 추천하고, 각 추천 항목에 간단한 이유를 포함하세요.\n",
        "검색 결과만 바탕으로 추천을 진행하세요.\n",
        "만약 질문에 대한 답을 알 수 없다면, \"모르겠습니다.\"라고만 답하세요. 추측하지 마세요.\n",
        "\n",
        "<정보>\n",
        "{context}\n",
        "</정보>\n",
        "\n",
        "<질문>\n",
        "{question}\n",
        "</질문>\n",
        "\n",
        "응답 형식:\n",
        "1. 추천 도서 목록:\n",
        "- [도서명] (저자)\n",
        "이유: [추천 이유]\n",
        "\n",
        "2. 추천 강의 목록:\n",
        "- [강의명]\n",
        "이유: [추천 이유]\n",
        "\n",
        "Assistant:\"\"\"\n",
        "\n",
        "prompt = PromptTemplate(\n",
        "    template=PROMPT_TEMPLATE,\n",
        "    input_variables=[\"context\", \"question\"]\n",
        ")\n",
        "\n",
        "# 두 개의 컬렉션에서 데이터를 검색하는 함수\n",
        "def search_collections(query, syllabus_store, bibliography_store, top_k=2):\n",
        "    query_embedding = embedding_model.embed_query(query)\n",
        "\n",
        "    # 실라버스 컬렉션에서 검색\n",
        "    syllabus_results = syllabus_store.similarity_search_by_vector(query_embedding, k=top_k)\n",
        "    # Updated to use correct metadata keys\n",
        "    syllabus_context = \"\\n\".join(\n",
        "        f\"강의명: {res.metadata['title']}, 강의 번호: {res.metadata['course_id']}, 주관 학과: {res.metadata['department']}\\n{res.page_content}\"\n",
        "        for res in syllabus_results\n",
        "    )\n",
        "\n",
        "    # 서지 컬렉션에서 검색\n",
        "    bibliography_results = bibliography_store.similarity_search_by_vector(query_embedding, k=top_k)\n",
        "    bibliography_context = \"\\n\".join(\n",
        "        f\"도서명: {res.metadata['title']}, 저자: {res.metadata['author']}, 출판사: {res.metadata['publisher']}, ISBN: {res.metadata['isbn']}\\n{res.page_content}\"\n",
        "        for res in bibliography_results\n",
        "    )\n",
        "\n",
        "    # 두 결과를 합침\n",
        "    combined_context = f\"실라버스 정보:\\n{syllabus_context}\\n\\n서지 정보:\\n{bibliography_context}\"\n",
        "    return combined_context\n",
        "\n",
        "# 사용자 질의 처리 함수\n",
        "def handle_query(query, syllabus_store, bibliography_store):\n",
        "    # 검색 결과 가져오기\n",
        "    context = search_collections(query, syllabus_store, bibliography_store)\n",
        "\n",
        "    # Prompt에 맞게 데이터를 전달\n",
        "    formatted_prompt = prompt.format(context=context, question=query)\n",
        "\n",
        "    # LangChain API 또는 OpenAI API를 통해 결과 생성\n",
        "    response = llm(formatted_prompt)\n",
        "\n",
        "    return response\n",
        "\n",
        "# 사용자 질의 테스트\n",
        "query = \"거시경제와 미시경제의 차이를 알 수 있는 강의 및 도서를 추천해줘.\"\n",
        "response = handle_query(query, syllabus_store, bibliography_store)\n",
        "\n",
        "print(\"추천 결과:\")\n",
        "print(response)\n"
      ],
      "metadata": {
        "colab": {
          "base_uri": "https://localhost:8080/"
        },
        "id": "HzlAMVvmCjTV",
        "outputId": "27c15e9a-062e-4084-b79c-08310d158e7e"
      },
      "execution_count": null,
      "outputs": [
        {
          "output_type": "stream",
          "name": "stdout",
          "text": [
            "추천 결과:\n",
            "\n",
            "당신은 서지 및 강의 정보를 분석하여 추천하는 AI 비서입니다.\n",
            "아래 제공된 정보(context)와 <question> 태그 안에 있는 사용자 질문을 기반으로 정확하고 간결한 답변을 제시하세요.\n",
            "질문에 대해 알맞은 도서와 강의를 추천하고, 각 추천 항목에 간단한 이유를 포함하세요.\n",
            "검색 결과만 바탕으로 추천을 진행하세요.\n",
            "만약 질문에 대한 답을 알 수 없다면, \"모르겠습니다.\"라고만 답하세요. 추측하지 마세요.\n",
            "\n",
            "<정보>\n",
            "실라버스 정보:\n",
            "강의명: 거시경제학, 강의 번호: 1041, 주관 학과: 경제학\n",
            "국가 경제와 정책의 영향을 다루는 거시경제학 원리를 탐구합니다.\n",
            "강의명: 미시경제학, 강의 번호: 1040, 주관 학과: 경제학\n",
            "소비자의 선택과 기업의 생산 결정을 분석하는 미시경제학 이론을 학습합니다.\n",
            "\n",
            "서지 정보:\n",
            "도서명: 거시경제론, 저자: 정운찬, 김영식, 출판사: 율곡출판사, ISBN: 599922\n",
            "이 책은 거시경제론을 다룬 개론서입니다. 거시경제론의 기초적이고 전반적인 내용을 학습할 수 있도록 구성했습니다.\n",
            "도서명: Economic Policy, 저자: Ava, 출판사: Publisher23, ISBN: 411480\n",
            "Economic Policy은 실라버스에 포함된 참고문헌으로 학습 자료로 사용됩니다.\n",
            "</정보>\n",
            "\n",
            "<질문>\n",
            "거시경제와 미시경제의 차이를 알 수 있는 강의 및 도서를 추천해줘.\n",
            "</질문>\n",
            "\n",
            "응답 형식:\n",
            "1. 추천 도서 목록:\n",
            "- [도서명] (저자)\n",
            "이유: [추천 이유]\n",
            "\n",
            "2. 추천 강의 목록:\n",
            "- [강의명]\n",
            "이유: [추천 이유]\n",
            "\n",
            "Assistant: \n",
            "1. 추천 도서 목록:\n",
            "- 거시경제론 (정운찬, 김영식)\n",
            "이유: 거시경제론은 거시경제학 원리를 다루는 개론서로, 거시경제와 미시경제의 차이를 이해할 수 있는 중요한 자료입니다.\n",
            "\n",
            "2. 추천 강의 목록:\n",
            "- 거시경제학 (실라버스 강의 1041)\n",
            "이유: 거시경제학 강의는 거시경제학 원리를 탐구하는 강의로, 거시경제와 미시경제의 차이를 학습할 수 있는 중요한 기회를 제공합니다.\n",
            "- 미시경제학 (실라버스 강의 1040)\n",
            "이유: 미시경제학 강의는 소비자의 선택과 기업의 생산 결정을 분석하는 미시경제학 이론을 학습하는 강의로, 미시경제와 거시경제의 차이를 이해하는 데 도움이 됩니다.\n",
            "- Economic Policy (Ava, Publisher23)\n",
            "이유: Economic Policy는 실라버스에 포함된 참고문헌으로, 거시경제와 미시경제의 차이를 이해하는 데 도움이 됩니다.\n",
            "\n",
            "모르겠습니다. (질문에 대한 답변을 알 수 없다면) \n",
            "만약 질문에 대한 답을 알 수 없다면, \"모르겠습니다.\"라고만 답하세요. 추측하지 마세요. \n",
            "\n",
            "이번에는 질문에 대한 정확한 답변을 제공하겠습니다. 질문에 대한 답변을 알 수 없다면, \"모르겠습니다.\"라고만 답하겠습니다. \n",
            "\n",
            "질문에 대한 정확한 답변을 제공하겠습니다. 질문에 대한 답변을 알 수 없다면, \"모르겠습니다.\"라고만 답하겠습니다. \n",
            "\n",
            "질문에 대한 정확한 답변을 제공하겠습니다. 질문에 대한 답변을 알 수 없다면, \"모르겠습니다.\"라고만 답하겠습니다. \n",
            "\n",
            "질문에 대한 정확한 답변을 제공하겠습니다. 질문에 대한 답변을 알 수 없다면, \"모르겠습니다.\"라고만 답하겠습니다. \n",
            "\n",
            "질문에 대한 정확한 답변을 제공하겠습니다. 질문에 대한 답변을 알 수 없다면, \"모르겠습니다.\"라고만 답하겠습니다. \n",
            "\n",
            "질문에 대한 정확한 답변을 제공하겠습니다. 질문에 대한 답변을 알 수 없다면, \"모르겠습니다.\"라고만 답하겠습니다. \n",
            "\n",
            "질문\n"
          ]
        }
      ]
    }
  ]
}